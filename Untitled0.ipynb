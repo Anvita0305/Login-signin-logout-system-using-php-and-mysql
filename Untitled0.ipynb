{
  "nbformat": 4,
  "nbformat_minor": 0,
  "metadata": {
    "colab": {
      "name": "Untitled0.ipynb",
      "provenance": [],
      "collapsed_sections": [],
      "authorship_tag": "ABX9TyPBIqwe+KKJ5RYd3pX2gq92",
      "include_colab_link": true
    },
    "kernelspec": {
      "name": "python3",
      "display_name": "Python 3"
    },
    "language_info": {
      "name": "python"
    }
  },
  "cells": [
    {
      "cell_type": "markdown",
      "metadata": {
        "id": "view-in-github",
        "colab_type": "text"
      },
      "source": [
        "<a href=\"https://colab.research.google.com/github/Anvita0305/Login-signin-logout-system-using-php-and-mysql/blob/main/Untitled0.ipynb\" target=\"_parent\"><img src=\"https://colab.research.google.com/assets/colab-badge.svg\" alt=\"Open In Colab\"/></a>"
      ]
    },
    {
      "cell_type": "code",
      "execution_count": 1,
      "metadata": {
        "colab": {
          "base_uri": "https://localhost:8080/",
          "height": 723
        },
        "id": "SlMxkunP-Z4t",
        "outputId": "4e6cc1b7-b52d-4478-d74b-736b0b41a6d1"
      },
      "outputs": [
        {
          "name": "stdout",
          "output_type": "stream",
          "text": [
            "Enter Size: row X col\n",
            "2\n",
            "2\n",
            "Enter values mat1\n",
            "1 2\n",
            "2 3\n",
            "[[1, 2], [2, 3]]\n",
            "Enter values mat2\n",
            "3 4\n",
            "4 5\n",
            "[[3, 4], [4, 5]]\n",
            "enter operation\n",
            "add\n",
            "[4, 6, 6, 8]\n",
            "enter operation\n",
            "div\n",
            "[0.3333333333333333, 0.5, 0.5, 0.6]\n",
            "enter operation\n",
            "mul\n",
            "[3, 11, 8, 23]\n",
            "enter operation\n",
            "sub\n",
            "[-2, -2, -2, -2]\n",
            "enter operation\n",
            "trans\n",
            "[1, 2, 2, 3]\n",
            "enter operation\n",
            "q\n"
          ]
        },
        {
          "output_type": "error",
          "ename": "KeyboardInterrupt",
          "evalue": "ignored",
          "traceback": [
            "\u001b[0;31m---------------------------------------------------------------------------\u001b[0m",
            "\u001b[0;31mKeyboardInterrupt\u001b[0m                         Traceback (most recent call last)",
            "\u001b[0;32m<ipython-input-1-40cfc3b85ff1>\u001b[0m in \u001b[0;36m<module>\u001b[0;34m()\u001b[0m\n\u001b[1;32m     62\u001b[0m             \u001b[0maddition\u001b[0m\u001b[0;34m(\u001b[0m\u001b[0mmat1\u001b[0m\u001b[0;34m,\u001b[0m\u001b[0mmat2\u001b[0m\u001b[0;34m)\u001b[0m\u001b[0;34m\u001b[0m\u001b[0;34m\u001b[0m\u001b[0m\n\u001b[1;32m     63\u001b[0m             \u001b[0;32mbreak\u001b[0m\u001b[0;34m\u001b[0m\u001b[0;34m\u001b[0m\u001b[0m\n\u001b[0;32m---> 64\u001b[0;31m         \u001b[0;32melif\u001b[0m\u001b[0;34m(\u001b[0m\u001b[0moperation\u001b[0m\u001b[0;34m==\u001b[0m\u001b[0;34m\"sub\"\u001b[0m\u001b[0;34m)\u001b[0m\u001b[0;34m:\u001b[0m\u001b[0;34m\u001b[0m\u001b[0;34m\u001b[0m\u001b[0m\n\u001b[0m\u001b[1;32m     65\u001b[0m             \u001b[0msub\u001b[0m\u001b[0;34m(\u001b[0m\u001b[0mmat1\u001b[0m\u001b[0;34m,\u001b[0m\u001b[0mmat2\u001b[0m\u001b[0;34m)\u001b[0m\u001b[0;34m\u001b[0m\u001b[0;34m\u001b[0m\u001b[0m\n\u001b[1;32m     66\u001b[0m             \u001b[0;32mbreak\u001b[0m\u001b[0;34m\u001b[0m\u001b[0;34m\u001b[0m\u001b[0m\n",
            "\u001b[0;31mKeyboardInterrupt\u001b[0m: "
          ]
        }
      ],
      "source": [
        "def addition(mat1,mat2):\n",
        "    res=[]\n",
        "    for i in range(len(mat1)):\n",
        "        for j in range(len(mat2)):\n",
        "            res.append(mat1[i][j]+mat2[i][j])\n",
        "    print(res)\n",
        "def sub(mat1,mat2):\n",
        "    res=[]\n",
        "    for i in range(len(mat1)):\n",
        "        for j in range(len(mat2)):\n",
        "            res.append(mat1[i][j]-mat2[i][j])\n",
        "    print(res)\n",
        "def mul(mat1,mat2):\n",
        "    res=[]\n",
        "    add=0\n",
        "    for i in range(len(mat1)):\n",
        "        for j in range(len(mat2)):\n",
        "            sum1=mat1[i][j]*mat2[j][i]\n",
        "            add=add+sum1\n",
        "            res.append(add)\n",
        "        add=0\n",
        "    print(res)\n",
        "def div(mat1,mat2):\n",
        "    res=[]\n",
        "    for i in range(len(mat1)):\n",
        "        for j in range(len(mat2)):\n",
        "            res.append(mat1[i][j]/mat2[i][j])\n",
        "    print(res)\n",
        "def transpose(mat1):\n",
        "    res=[]\n",
        "    for i in range(len(mat1)):\n",
        "        for j in range(i,len(mat1[i])):\n",
        "            if i!=j:\n",
        "                mat1[i][j],mat1[j][i]= mat1[j][i],mat1[i][j]\n",
        "                res.append(mat1[i][j])\n",
        "                res.append(mat1[j][i])\n",
        "            else:\n",
        "                res.append(mat1[i][j])\n",
        "    print(res)\n",
        "print(\"Enter Size: row X col\")\n",
        "m=int(input())\n",
        "n=int(input())\n",
        "mat1=[]\n",
        "mat2=[]\n",
        "temp=[]\n",
        "print(\"Enter values mat1\")   \n",
        "for i in range(m):\n",
        "    temp=list(map(int,input().split()))\n",
        "    mat1.append(temp)\n",
        "print(mat1)\n",
        "print(\"Enter values mat2\")   \n",
        "for i in range(m):\n",
        "    temp=list(map(int,input().split()))\n",
        "    mat2.append(temp)\n",
        "print(mat2)\n",
        "\n",
        "while(1):\n",
        "    print(\"enter operation\")\n",
        "    operation=str(input())\n",
        "    while(operation!=\"quit\"):\n",
        "        if(operation==\"add\"):\n",
        "            addition(mat1,mat2)\n",
        "            break\n",
        "        elif(operation==\"sub\"):\n",
        "            sub(mat1,mat2)\n",
        "            break\n",
        "        elif(operation==\"mul\"):\n",
        "            mul(mat1,mat2)\n",
        "            break\n",
        "        elif(operation==\"div\"):\n",
        "            div(mat1,mat2)\n",
        "            break\n",
        "        elif(operation==\"trans\"):\n",
        "            transpose(mat1)\n",
        "            break\n",
        "    else:\n",
        "        break\n",
        "        \n",
        "\n"
      ]
    },
    {
      "cell_type": "code",
      "source": [
        ""
      ],
      "metadata": {
        "id": "_Lp2kLP4-dBk"
      },
      "execution_count": null,
      "outputs": []
    }
  ]
}